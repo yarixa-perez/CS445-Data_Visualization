{
 "cells": [
  {
   "cell_type": "markdown",
   "id": "9aa626ef-d19c-4644-8cdb-bc478b4fe197",
   "metadata": {},
   "source": [
    "# Data Visualization with PCA\n",
    "Principal Component Analysis (PCA) is a statistical technique for dimensionality reduction and feature extraction. At its core, PCA finds a new set of orthogonal axes (the principal components) onto which your data can be projected such that:\n",
    "\n",
    "**Maximal Variance**\n",
    "\n",
    "- The first principal component (PC1) captures the largest possible variance in the data.\n",
    "\n",
    "- The second principal component (PC2), orthogonal to PC1, captures the next largest variance, and so on.\n",
    "\n",
    "**Orthogonality**\n",
    "\n",
    "- All principal components are mutually perpendicular. This ensures that each component adds unique information.\n",
    "\n",
    "**Linear Transformation**\n",
    "\n",
    "PCA is a linear mapping: each principal component is a linear combination of the original variables."
   ]
  },
  {
   "cell_type": "markdown",
   "id": "61779b41-ff5f-420a-8aa0-4082cbbcd53a",
   "metadata": {},
   "source": [
    "### Numpy generate matrix"
   ]
  },
  {
   "cell_type": "code",
   "execution_count": 1,
   "id": "2f04f910-3c9e-460f-b749-70899c9952ef",
   "metadata": {},
   "outputs": [],
   "source": [
    "# Import necessary libraries\n",
    "import numpy as np\n",
    "import pandas as pd\n",
    "import matplotlib.pyplot as plt"
   ]
  },
  {
   "cell_type": "code",
   "execution_count": 2,
   "id": "8d5dc5c7-3b49-443a-97da-c36226ec4d2c",
   "metadata": {},
   "outputs": [
    {
     "name": "stdout",
     "output_type": "stream",
     "text": [
      "[[0, 0, 0, 0], [0, 0, 0, 0], [0, 0, 0, 0], [0, 0, 0, 0]]\n",
      "This matrix is:  [[45, 48, 65, 68], [68, 10, 84, 22], [37, 88, 71, 89], [89, 13, 59, 66]] \n",
      "\n",
      "[45, 48, 65, 68]\n",
      "[68, 10, 84, 22]\n",
      "[37, 88, 71, 89]\n",
      "[89, 13, 59, 66]\n"
     ]
    }
   ],
   "source": [
    "n=4\n",
    "m=4\n",
    "np.random.seed(0)\n",
    "matrix = [[0 for i in range(m)] for x in range(n)]\n",
    "print(matrix)\n",
    "for i in range(n):\n",
    "    for x in range(m):\n",
    "        matrix[i][x] = np.random.randint(1, 101)\n",
    "print(\"This matrix is: \", matrix, \"\\n\")\n",
    "\n",
    "for line in matrix:\n",
    "    print(line)"
   ]
  },
  {
   "cell_type": "markdown",
   "id": "2a897b52-5e03-4aca-be60-d08f526ae16f",
   "metadata": {},
   "source": [
    "### We also can do:"
   ]
  },
  {
   "cell_type": "code",
   "execution_count": 3,
   "id": "24d58949-6d09-49ad-bd79-a71675377845",
   "metadata": {},
   "outputs": [
    {
     "name": "stdout",
     "output_type": "stream",
     "text": [
      "The matrix is:\n",
      " [[45. 48. 65. 68.]\n",
      " [68. 10. 84. 22.]\n",
      " [37. 88. 71. 89.]\n",
      " [89. 13. 59. 66.]]\n"
     ]
    }
   ],
   "source": [
    "# Set a seed for reproducibility\n",
    "np.random.seed(0)\n",
    "\n",
    "# Parameters\n",
    "n = 4  # number of samples (rows)\n",
    "m = 4  # number of features (columns)\n",
    "\n",
    "# Generate the matrix\n",
    "matrix = np.random.randint(1, 101, size=(n, m)).astype(float)\n",
    "\n",
    "# Print the matrix\n",
    "print(\"The matrix is:\\n\", matrix)"
   ]
  },
  {
   "cell_type": "markdown",
   "id": "cb6d6227-15ab-4315-8489-c15a4d8bf560",
   "metadata": {},
   "source": [
    "### Data Preprocessing - StandardScaler Example"
   ]
  },
  {
   "cell_type": "code",
   "execution_count": 4,
   "id": "1074d9f6-2de9-4064-afc0-e7810ef7c149",
   "metadata": {},
   "outputs": [
    {
     "name": "stdout",
     "output_type": "stream",
     "text": [
      "Standardized Features:\n",
      "          0         1         2         3\n",
      "0 -0.724322  0.260994 -0.513139  0.276796\n",
      "1  0.405129 -0.941160  1.539416 -1.609516\n",
      "2 -1.117174  1.526419  0.135037  1.137938\n",
      "3  1.436367 -0.846253 -1.161314  0.194782\n"
     ]
    }
   ],
   "source": [
    "from sklearn.preprocessing import StandardScaler\n",
    "\n",
    "scaler = StandardScaler()  # Initialize the scaler\n",
    "X_scaled = scaler.fit_transform(matrix)  # Standardize the features\n",
    "\n",
    "# Step 4: Convert the scaled features back into a DataFrame\n",
    "X_scaled_df = pd.DataFrame(X_scaled)\n",
    "\n",
    "# Display the scaled data\n",
    "print(\"Standardized Features:\")\n",
    "print(X_scaled_df.head(5))"
   ]
  },
  {
   "cell_type": "markdown",
   "id": "d35d4d02-dd7c-4c34-8143-4670111acee5",
   "metadata": {},
   "source": [
    "### Data Preprocessing - MinMaxScaler Example"
   ]
  },
  {
   "cell_type": "code",
   "execution_count": 5,
   "id": "d2f3dd41-fad1-4e8f-8796-aa5064217e7f",
   "metadata": {},
   "outputs": [
    {
     "name": "stdout",
     "output_type": "stream",
     "text": [
      "Min-Max Scaled Data:\n",
      "          0         1     2         3\n",
      "0  0.153846  0.487179  0.24  0.686567\n",
      "1  0.596154  0.000000  1.00  0.000000\n",
      "2  0.000000  1.000000  0.48  1.000000\n",
      "3  1.000000  0.038462  0.00  0.656716\n"
     ]
    }
   ],
   "source": [
    "from sklearn.preprocessing import MinMaxScaler\n",
    "\n",
    "min_max_scaler = MinMaxScaler()\n",
    "X_min_max_scaled = pd.DataFrame(min_max_scaler.fit_transform(matrix))\n",
    "print(\"Min-Max Scaled Data:\")\n",
    "print(X_min_max_scaled.head(5))"
   ]
  },
  {
   "cell_type": "markdown",
   "id": "fde8b210-f3b3-4bc9-883e-9eb53ef1abf7",
   "metadata": {},
   "source": [
    "### Data Preprocessing - Normalizer Example\n"
   ]
  },
  {
   "cell_type": "code",
   "execution_count": 6,
   "id": "2e173bf5-3751-4ec2-a074-cb29cb574cc8",
   "metadata": {},
   "outputs": [
    {
     "name": "stdout",
     "output_type": "stream",
     "text": [
      "\n",
      "L1 Normalized Data:\n",
      "\n",
      "          0         1         2         3\n",
      "0  0.199115  0.212389  0.287611  0.300885\n",
      "1  0.369565  0.054348  0.456522  0.119565\n",
      "2  0.129825  0.308772  0.249123  0.312281\n",
      "3  0.392070  0.057269  0.259912  0.290749\n"
     ]
    }
   ],
   "source": [
    "from sklearn.preprocessing import Normalizer\n",
    "# Normalization with L1 Norm\n",
    "l1_normalizer = Normalizer(norm='l1')\n",
    "X_l1 = l1_normalizer.fit_transform(matrix)\n",
    "X_normalized_l1 = pd.DataFrame(X_l1)\n",
    "print(\"\\nL1 Normalized Data:\\n\")\n",
    "print(X_normalized_l1.head(5))"
   ]
  },
  {
   "cell_type": "code",
   "execution_count": 7,
   "id": "e60a97e0-27ba-4a95-b3c5-6f3052b1bf7d",
   "metadata": {},
   "outputs": [
    {
     "name": "stdout",
     "output_type": "stream",
     "text": [
      "\n",
      "L2 Normalized Data:\n",
      "\n",
      "          0         1         2         3\n",
      "0  0.392002  0.418135  0.566224  0.592358\n",
      "1  0.614035  0.090299  0.758513  0.198658\n",
      "2  0.249030  0.592287  0.477868  0.599018\n",
      "3  0.705217  0.103009  0.467504  0.522970\n"
     ]
    }
   ],
   "source": [
    "# Normalization with L2 Norm\n",
    "l2_normalizer = Normalizer(norm='l2')\n",
    "X_l2 = l2_normalizer.fit_transform(matrix)\n",
    "X_normalized_l2 = pd.DataFrame(X_l2)\n",
    "print(\"\\nL2 Normalized Data:\\n\")\n",
    "print(X_normalized_l2.head(5))"
   ]
  },
  {
   "cell_type": "markdown",
   "id": "b59a01c7-48dd-4a51-9549-c9b67d108cb2",
   "metadata": {},
   "source": [
    "## 1. Examples from Slide 7.2"
   ]
  },
  {
   "cell_type": "code",
   "execution_count": 8,
   "id": "0d072107-3255-4b43-b41f-24e74f66c41f",
   "metadata": {},
   "outputs": [
    {
     "data": {
      "text/plain": [
       "array([[64., 99., 66., 37.],\n",
       "       [17., 82., 43., 66.],\n",
       "       [16., 74., 79., 13.],\n",
       "       [93., 67., 23., 11.]])"
      ]
     },
     "execution_count": 8,
     "metadata": {},
     "output_type": "execute_result"
    }
   ],
   "source": [
    "\n",
    "matrix = np.array([\n",
    "    [64, 99, 66, 37],\n",
    "    [17, 82, 43, 66],\n",
    "    [16, 74, 79, 13],\n",
    "    [93, 67, 23, 11]\n",
    "], dtype=float)\n",
    "matrix"
   ]
  },
  {
   "cell_type": "code",
   "execution_count": 9,
   "id": "9f2de623-5490-40db-ab66-cba3a9fa3d3d",
   "metadata": {},
   "outputs": [
    {
     "name": "stdout",
     "output_type": "stream",
     "text": [
      "The mean is :  [47.5, 80.5, 52.75, 31.75] \n",
      "\n"
     ]
    }
   ],
   "source": [
    "# computing the mean\n",
    "U = []\n",
    "mean_donaminator = n\n",
    "matrix = np.array(matrix)\n",
    "summ = 0\n",
    "\n",
    "for i in range(m):\n",
    "    for x in range(n):\n",
    "        summ += matrix[x][i]\n",
    "    U.append(float(summ / mean_donaminator))\n",
    "    summ = 0\n",
    "\n",
    "print (\"The mean is : \", U, \"\\n\")"
   ]
  },
  {
   "cell_type": "code",
   "execution_count": 10,
   "id": "39201aa1-d937-425c-9560-0634d0e6c89d",
   "metadata": {},
   "outputs": [
    {
     "name": "stdout",
     "output_type": "stream",
     "text": [
      "B_matrix is:\n",
      " [[ 16.5   18.5   13.25   5.25]\n",
      " [-30.5    1.5   -9.75  34.25]\n",
      " [-31.5   -6.5   26.25 -18.75]\n",
      " [ 45.5  -13.5  -29.75 -20.75]] \n",
      "\n",
      "Transpose of B_matrix is:\n",
      " [[ 16.5  -30.5  -31.5   45.5 ]\n",
      " [ 18.5    1.5   -6.5  -13.5 ]\n",
      " [ 13.25  -9.75  26.25 -29.75]\n",
      " [  5.25  34.25 -18.75 -20.75]]\n"
     ]
    }
   ],
   "source": [
    "### \n",
    "B_matrix = [\n",
    "    [ 16.5,  18.5,  13.25,   5.25],\n",
    "    [-30.5,   1.5,  -9.75,  34.25],\n",
    "    [-31.5,  -6.5,  26.25, -18.75],\n",
    "    [ 45.5, -13.5, -29.75, -20.75]\n",
    "]\n",
    "\n",
    "# convert to NumPy array\n",
    "B_matrix = np.array(B_matrix)\n",
    "\n",
    "# print the centered matrix\n",
    "print(\"B_matrix is:\\n\", B_matrix, \"\\n\")\n",
    "\n",
    "# compute and print its transpose\n",
    "B_matrix_transpose = B_matrix.T\n",
    "print(\"Transpose of B_matrix is:\\n\", B_matrix_transpose)"
   ]
  },
  {
   "cell_type": "markdown",
   "id": "6ab3653d-74d7-470c-ab38-d1f1027db845",
   "metadata": {},
   "source": [
    "### Covariance Matrix"
   ]
  },
  {
   "cell_type": "code",
   "execution_count": 11,
   "id": "87592f91-7992-4697-a1c9-f42bc5327b45",
   "metadata": {},
   "outputs": [
    {
     "name": "stdout",
     "output_type": "stream",
     "text": [
      "Covariance matrix:\n",
      " [[ 2.4528750e+03 -1.2746250e+03 -1.1718750e+03 -6.3750000e+00]\n",
      " [-1.2746250e+03  6.6018750e+03  1.5862500e+02 -5.4858750e+03]\n",
      " [-1.1718750e+03  1.5862500e+02  6.2253750e+03 -5.2121250e+03]\n",
      " [-6.3750000e+00 -5.4858750e+03 -5.2121250e+03  1.0704375e+04]] \n",
      "\n"
     ]
    }
   ],
   "source": [
    "# covariance matrix: S = 1/(n-1) * B_matrix * B_matrix_transpose\n",
    "s_donaminator = n - 1\n",
    "S_matrix = s_donaminator * np.dot(B_matrix, B_matrix_transpose)\n",
    "\n",
    "print (\"Covariance matrix:\\n\", S_matrix, \"\\n\")"
   ]
  },
  {
   "cell_type": "markdown",
   "id": "872081d0-a992-4134-96c3-a60de6e25be5",
   "metadata": {},
   "source": [
    "### Eigenvalues and Eigenvectors by numpy"
   ]
  },
  {
   "cell_type": "code",
   "execution_count": 12,
   "id": "2e79e86c-0b0f-4461-9736-afed651fc424",
   "metadata": {},
   "outputs": [
    {
     "name": "stdout",
     "output_type": "stream",
     "text": [
      "Eigenvalues : \n",
      " [ 1.65652860e+04 -2.53621747e-13  3.17024677e+03  6.24896728e+03] \n",
      "\n",
      "Eigenvectors (column 1) : \n",
      " [[ 0.07457489 -0.5         0.8626778  -0.01501996]\n",
      " [-0.45016114 -0.5        -0.23868842  0.70027337]\n",
      " [-0.41273207 -0.5        -0.26653328 -0.71317056]\n",
      " [ 0.78831832 -0.5        -0.3574561   0.02791715]] \n",
      "\n"
     ]
    }
   ],
   "source": [
    "# Getting just the eigenvalues:\n",
    "eigenvalues = np.linalg.eigvals(S_matrix)\n",
    "\n",
    "# Getting eigenvectors:\n",
    "eigenvectors = np.linalg.eig(S_matrix)\n",
    "\n",
    "print (\"Eigenvalues : \\n\", eigenvalues, \"\\n\")\n",
    "print (\"Eigenvectors (column 1) : \\n\", eigenvectors[1], \"\\n\")"
   ]
  },
  {
   "cell_type": "markdown",
   "id": "f9b4e0fc-3c62-4d25-ad6f-a1738a67bf0f",
   "metadata": {},
   "source": [
    "## 2. Example from Iris dataset"
   ]
  },
  {
   "cell_type": "code",
   "execution_count": 13,
   "id": "3ec8c698-5114-4bde-904e-fa88fd93bd6d",
   "metadata": {},
   "outputs": [],
   "source": [
    "from mpl_toolkits.mplot3d import Axes3D  # For 3D plotting\n",
    "from sklearn.datasets import load_iris\n",
    "from sklearn.decomposition import PCA"
   ]
  },
  {
   "cell_type": "markdown",
   "id": "43bdbbdf-3d26-44ca-be1d-53470ad73b0d",
   "metadata": {},
   "source": [
    "### 2.1. Load and Prepare the Data"
   ]
  },
  {
   "cell_type": "code",
   "execution_count": 14,
   "id": "8ce079a5-3ce3-4f88-a159-e7210cab5bd7",
   "metadata": {},
   "outputs": [
    {
     "data": {
      "text/html": [
       "<div>\n",
       "<style scoped>\n",
       "    .dataframe tbody tr th:only-of-type {\n",
       "        vertical-align: middle;\n",
       "    }\n",
       "\n",
       "    .dataframe tbody tr th {\n",
       "        vertical-align: top;\n",
       "    }\n",
       "\n",
       "    .dataframe thead th {\n",
       "        text-align: right;\n",
       "    }\n",
       "</style>\n",
       "<table border=\"1\" class=\"dataframe\">\n",
       "  <thead>\n",
       "    <tr style=\"text-align: right;\">\n",
       "      <th></th>\n",
       "      <th>sepal length (cm)</th>\n",
       "      <th>sepal width (cm)</th>\n",
       "      <th>petal length (cm)</th>\n",
       "      <th>petal width (cm)</th>\n",
       "      <th>species</th>\n",
       "    </tr>\n",
       "  </thead>\n",
       "  <tbody>\n",
       "    <tr>\n",
       "      <th>0</th>\n",
       "      <td>5.1</td>\n",
       "      <td>3.5</td>\n",
       "      <td>1.4</td>\n",
       "      <td>0.2</td>\n",
       "      <td>setosa</td>\n",
       "    </tr>\n",
       "    <tr>\n",
       "      <th>1</th>\n",
       "      <td>4.9</td>\n",
       "      <td>3.0</td>\n",
       "      <td>1.4</td>\n",
       "      <td>0.2</td>\n",
       "      <td>setosa</td>\n",
       "    </tr>\n",
       "    <tr>\n",
       "      <th>2</th>\n",
       "      <td>4.7</td>\n",
       "      <td>3.2</td>\n",
       "      <td>1.3</td>\n",
       "      <td>0.2</td>\n",
       "      <td>setosa</td>\n",
       "    </tr>\n",
       "    <tr>\n",
       "      <th>3</th>\n",
       "      <td>4.6</td>\n",
       "      <td>3.1</td>\n",
       "      <td>1.5</td>\n",
       "      <td>0.2</td>\n",
       "      <td>setosa</td>\n",
       "    </tr>\n",
       "    <tr>\n",
       "      <th>4</th>\n",
       "      <td>5.0</td>\n",
       "      <td>3.6</td>\n",
       "      <td>1.4</td>\n",
       "      <td>0.2</td>\n",
       "      <td>setosa</td>\n",
       "    </tr>\n",
       "  </tbody>\n",
       "</table>\n",
       "</div>"
      ],
      "text/plain": [
       "   sepal length (cm)  sepal width (cm)  petal length (cm)  petal width (cm)  \\\n",
       "0                5.1               3.5                1.4               0.2   \n",
       "1                4.9               3.0                1.4               0.2   \n",
       "2                4.7               3.2                1.3               0.2   \n",
       "3                4.6               3.1                1.5               0.2   \n",
       "4                5.0               3.6                1.4               0.2   \n",
       "\n",
       "  species  \n",
       "0  setosa  \n",
       "1  setosa  \n",
       "2  setosa  \n",
       "3  setosa  \n",
       "4  setosa  "
      ]
     },
     "execution_count": 14,
     "metadata": {},
     "output_type": "execute_result"
    }
   ],
   "source": [
    "# -------------------------\n",
    "# 1. Load and Prepare the Data\n",
    "# -------------------------\n",
    "iris = load_iris()\n",
    "X = iris.data  # Feature data\n",
    "y = iris.target  # Species labels\n",
    "feature_names = iris.feature_names\n",
    "\n",
    "# Convert to DataFrame for easier handling\n",
    "df = pd.DataFrame(X, columns=feature_names)\n",
    "df['species'] = pd.Categorical.from_codes(y, iris.target_names)\n",
    "df.head(5)"
   ]
  },
  {
   "cell_type": "markdown",
   "id": "104f4f04-886f-4cf1-87c0-e61dca6abddc",
   "metadata": {},
   "source": [
    "### 2.2 Compute the Covariance Matrix"
   ]
  },
  {
   "cell_type": "code",
   "execution_count": 15,
   "id": "6777f83d-5d56-4c45-b393-138ffdf73a9b",
   "metadata": {},
   "outputs": [
    {
     "name": "stdout",
     "output_type": "stream",
     "text": [
      "Covariance Matrix:\n",
      "[[ 1.00671141 -0.11835884  0.87760447  0.82343066]\n",
      " [-0.11835884  1.00671141 -0.43131554 -0.36858315]\n",
      " [ 0.87760447 -0.43131554  1.00671141  0.96932762]\n",
      " [ 0.82343066 -0.36858315  0.96932762  1.00671141]]\n"
     ]
    }
   ],
   "source": [
    "# PCA is sensitive to scale, so we standardize the data first\n",
    "scaler = StandardScaler()\n",
    "X_scaled = scaler.fit_transform(X)\n",
    "\n",
    "# -------------------------\n",
    "# Compute the Covariance Matrix\n",
    "# -------------------------\n",
    "# The covariance matrix shows how variables vary with respect to each other\n",
    "cov_matrix = np.cov(X_scaled, rowvar=False)\n",
    "print(\"Covariance Matrix:\")\n",
    "print(cov_matrix)"
   ]
  },
  {
   "cell_type": "code",
   "execution_count": 17,
   "id": "ffa3a74f-c7cb-46c0-9b42-f0c68dfc3da7",
   "metadata": {},
   "outputs": [
    {
     "data": {
      "image/png": "[encoded data removed]",
      "text/plain": [
       "<Figure size 800x600 with 2 Axes>"
      ]
     },
     "metadata": {},
     "output_type": "display_data"
    }
   ],
   "source": [
    "# Visualize the covariance matrix as a heatmap\n",
    "plt.figure(figsize=(8, 6))\n",
    "plt.imshow(cov_matrix, interpolation='none', cmap='coolwarm')\n",
    "plt.colorbar()\n",
    "plt.xticks(range(len(feature_names)), feature_names, rotation=45)\n",
    "plt.yticks(range(len(feature_names)), feature_names)\n",
    "plt.title(\"yarixaPerez + Covariance Matrix Heatmap\")\n",
    "plt.show()"
   ]
  },
  {
   "cell_type": "markdown",
   "id": "2ac8b1cb-5021-4f02-8e90-1fa1a0d36b1b",
   "metadata": {},
   "source": [
    "**Covariance Matrix and Its Heatmap Visualization**:\n",
    "\n",
    "A heatmap of the covariance matrix displays the pairwise relationships between standardized features. Darker colors indicate stronger positive or negative covariances. Analysis:\n",
    "\n",
    "The covariance matrix reveals how the features move together. For example, if two features have a high positive covariance, they tend to increase or decrease in tandem. In the Iris dataset, some features are correlated, indicating redundancy. This redundancy is one reason why PCA can reduce dimensionality without losing much information. \n",
    "\n",
    "Big Takeaway: Understanding the covariance structure helps us see which features share similar information. This redundancy suggests that fewer dimensions (principal components) can effectively capture most of the variability in the data."
   ]
  },
  {
   "cell_type": "markdown",
   "id": "958f88e6-a740-4d78-9063-cb2b84ed1102",
   "metadata": {},
   "source": [
    "### 2.3 Compute Eigenvalues and Eigenvectors"
   ]
  },
  {
   "cell_type": "code",
   "execution_count": 18,
   "id": "7b7eec39-d2b5-4d2f-8a97-4ffcf9274dad",
   "metadata": {},
   "outputs": [
    {
     "name": "stdout",
     "output_type": "stream",
     "text": [
      "Eigenvalues:\n",
      "[2.93808505 0.9201649  0.14774182 0.02085386]\n",
      "Eigenvectors:\n",
      "                   PC1       PC2       PC3       PC4\n",
      "sepal length  0.521066 -0.377418 -0.719566  0.261286\n",
      "sepal width  -0.269347 -0.923296  0.244382 -0.123510\n",
      "petal length  0.580413 -0.024492  0.142126 -0.801449\n",
      "petal width   0.564857 -0.066942  0.634273  0.523597\n"
     ]
    },
    {
     "data": {
      "image/png": "[encoded data removed]",
      "text/plain": [
       "<Figure size 800x600 with 1 Axes>"
      ]
     },
     "metadata": {},
     "output_type": "display_data"
    }
   ],
   "source": [
    "# -------------------------\n",
    "# Compute Eigenvalues and Eigenvectors\n",
    "# -------------------------\n",
    "# These describe the directions (eigenvectors) and magnitude (eigenvalues) of variance\n",
    "eigenvalues, eigenvectors = np.linalg.eig(cov_matrix)\n",
    "print(\"Eigenvalues:\")\n",
    "print(eigenvalues)\n",
    "print(\"Eigenvectors:\")\n",
    "Eigenvectors = pd.DataFrame(\n",
    "    eigenvectors,\n",
    "    index=['sepal length', 'sepal width', 'petal length', 'petal width'],\n",
    "    columns=['PC1', 'PC2', 'PC3', 'PC4']\n",
    ")\n",
    "print(Eigenvectors)\n",
    "\n",
    "# Plot eigenvalues in a scree plot\n",
    "plt.figure(figsize=(8, 6))\n",
    "components = np.arange(1, len(eigenvalues) + 1)\n",
    "plt.bar(components, eigenvalues, color='teal', alpha=0.7)\n",
    "plt.xlabel('Component Number')\n",
    "plt.ylabel('Eigenvalue')\n",
    "plt.title('yarixaPerez + Scree Plot (Eigenvalues)')\n",
    "plt.xticks(components)\n",
    "plt.grid(True)\n",
    "plt.show()"
   ]
  },
  {
   "cell_type": "markdown",
   "id": "f9b64b1e-5938-4dd8-b36c-5fca430e69e4",
   "metadata": {},
   "source": [
    "**Eigenvalues and Scree Plot**\n",
    "\n",
    "Visualization:\n",
    "\n",
    "A scree plot displays the eigenvalues associated with each principal component.\n",
    "Both individual and cumulative explained variance ratios are plotted.\n",
    "Analysis:\n",
    "\n",
    "- The eigenvalues indicate how much variance each principal component captures.\n",
    "- The first principal component (PC1) has the highest eigenvalue, meaning it explains the most variance.\n",
    "- The cumulative plot helps determine the number of components needed to retain a desired level of total variance (often 80–95%).\n",
    "\n",
    "Big Takeaway:\n",
    "Most of the data's variance is captured by the first few components. This means that even though the original dataset may be high-dimensional, its essential structure can be represented in a much lower-dimensional space."
   ]
  },
  {
   "cell_type": "markdown",
   "id": "7bcf9f73-97af-48b6-a910-df382dbe4d30",
   "metadata": {},
   "source": [
    "### 2.4 2D PCA Visualization"
   ]
  },
  {
   "cell_type": "code",
   "execution_count": 19,
   "id": "dce0d8d3-0e4f-4bc6-b314-bdcf9bb1ce79",
   "metadata": {},
   "outputs": [
    {
     "name": "stdout",
     "output_type": "stream",
     "text": [
      "2D PCA Explained Variance Ratio:\n",
      "[0.72962445 0.22850762]\n"
     ]
    },
    {
     "data": {
      "image/png": "[encoded data removed]",
      "text/plain": [
       "<Figure size 800x600 with 1 Axes>"
      ]
     },
     "metadata": {},
     "output_type": "display_data"
    }
   ],
   "source": [
    "# 5A. 2D PCA\n",
    "pca2d = PCA(n_components=2)\n",
    "X_pca_2d = pca2d.fit_transform(X_scaled)\n",
    "pca2d_df = pd.DataFrame(data=X_pca_2d, columns=['PC1', 'PC2'])\n",
    "pca2d_df['species'] = df['species']\n",
    "\n",
    "# Print explained variance ratio for 2D PCA\n",
    "print(\"2D PCA Explained Variance Ratio:\")\n",
    "print(pca2d.explained_variance_ratio_)\n",
    "plt.figure(figsize=(8, 6))\n",
    "for species in iris.target_names:\n",
    "    subset = pca2d_df[pca2d_df['species'] == species]\n",
    "    plt.scatter(subset['PC1'], subset['PC2'], label=species, alpha=0.7)\n",
    "    \n",
    "plt.xlabel('Principal Component 1')\n",
    "plt.ylabel('Principal Component 2')\n",
    "plt.title('yarixaPerez + 2D PCA of Iris Dataset')\n",
    "plt.legend()\n",
    "plt.grid(True)\n",
    "plt.show()"
   ]
  },
  {
   "cell_type": "markdown",
   "id": "b6d4b542-dc84-4454-81cc-5517cac86c8f",
   "metadata": {},
   "source": [
    "**2D PCA Scatter Plot**\n",
    "\n",
    "Visualization:\n",
    "\n",
    "- A 2D scatter plot of the data projected onto PC1 and PC2.\n",
    "- Different colors indicate different Iris species.\n",
    "\n",
    "Analysis:\n",
    "\n",
    "- The plot shows clear clustering of the Iris species, indicating that the first two principal components capture the essential differences between the species.\n",
    "- Overlapping regions might suggest that some species have similar characteristics or that more subtle differences exist.\n",
    "\n",
    "Big Takeaway:\n",
    "The 2D projection reveals that the majority of the discriminative information in the Iris dataset is contained within the first two principal components, making it easier to distinguish between species visually.\n"
   ]
  },
  {
   "cell_type": "markdown",
   "id": "696f44f1-2e09-4ee9-9ee4-392012fb2e76",
   "metadata": {},
   "source": [
    "### 2.5 Biplot (2D)"
   ]
  },
  {
   "cell_type": "code",
   "execution_count": 20,
   "id": "70c6c14b-aad5-4b75-94a3-a07520562289",
   "metadata": {},
   "outputs": [
    {
     "data": {
      "image/png": "[encoded data removed]",
      "text/plain": [
       "<Figure size 1000x800 with 1 Axes>"
      ]
     },
     "metadata": {},
     "output_type": "display_data"
    }
   ],
   "source": [
    "# -------------------------\n",
    "# Visualization : Biplot (2D)\n",
    "# -------------------------\n",
    "def biplot(score, coeff, labels=None):\n",
    "    xs = score[:, 0]\n",
    "    ys = score[:, 1]\n",
    "    n = coeff.shape[0]\n",
    "    plt.figure(figsize=(10, 8))\n",
    "    # Scatter plot of the PCA scores\n",
    "    plt.scatter(xs, ys, c=y, cmap='viridis', alpha=0.5)\n",
    "    \n",
    "    for i in range(n):\n",
    "        # Plot arrows for feature loadings, scaled for visibility\n",
    "        plt.arrow(0, 0, coeff[i, 0] * 3, coeff[i, 1] * 3, color='r', alpha=0.7, head_width=0.1)\n",
    "        if labels is None:\n",
    "            plt.text(coeff[i, 0] * 3.2, coeff[i, 1] * 3.2, \"Var\"+str(i+1), color='r', ha='center', va='center')\n",
    "        else:\n",
    "            plt.text(coeff[i, 0] * 3.2, coeff[i, 1] * 3.2, labels[i], color='r', ha='center', va='center')\n",
    "    plt.xlabel(\"PC1\")\n",
    "    plt.ylabel(\"PC2\")\n",
    "    plt.title(\"yarixaPerez + Biplot\")\n",
    "    plt.grid(True)\n",
    "    plt.show()\n",
    "\n",
    "# Calculate the loadings for the 2D PCA (these are the eigenvectors for PC1 and PC2)\n",
    "loadings = pca2d.components_.T\n",
    "\n",
    "# Create a biplot using the 2D PCA scores and loadings\n",
    "biplot(X_pca_2d, loadings, labels=feature_names)\n",
    "\n",
    "# Explanation:\n",
    "# The biplot overlays the PCA scores with arrows representing the loadings of the original features.\n",
    "# This visualization helps you understand which features influence each principal component."
   ]
  },
  {
   "cell_type": "markdown",
   "id": "7d08305a-b419-4638-8aa5-f2378ae6f0d9",
   "metadata": {},
   "source": [
    "**Biplot (2D)**\n",
    "\n",
    "Visualization:\n",
    "\n",
    "- A biplot overlays the 2D PCA scatter plot with arrows representing the loadings (i.e., contributions) of the original features.\n",
    "- The direction and length of the arrows indicate how strongly each original feature influences the principal components.\n",
    "\n",
    "Analysis:\n",
    "\n",
    "- The biplot shows which features are driving the separation between species.\n",
    "- For instance, longer arrows indicate a strong influence on the principal component, and the direction suggests how the feature contributes to the variance.\n",
    "- This helps in interpreting the principal components in terms of the original features.\n",
    "\n",
    "Big Takeaway:\n",
    "- The biplot bridges the gap between the reduced-dimensional representation and the original variables. It reveals which features are most important in differentiating the species, providing a deeper understanding of the underlying data structure.\n",
    "\n",
    "Overall Big Takeaway\n",
    "\n",
    "- The combined visualizations demonstrate that:\n",
    "\n",
    "Dimensionality Reduction Works: Most of the variance in the Iris dataset is captured by the first few principal components, meaning we can reduce complexity without significant information loss.\n",
    "Natural Clusters Exist: The 2D and 3D scatter plots clearly show clusters corresponding to the Iris species, confirming that the dataset has inherent structure.\n",
    "Feature Contributions are Key: The biplot shows which original features contribute most to this structure, offering insights into the characteristics that differentiate the species.\n",
    "In summary, PCA not only simplifies the data but also reveals the critical structure and relationships within it, making it a powerful tool for both analysis and visualization."
   ]
  },
  {
   "cell_type": "markdown",
   "id": "33dd99fd-45e4-48ac-848c-d9155d071a55",
   "metadata": {},
   "source": [
    "### Practice: 3D PCA Visualization\n",
    "\n",
    "In your code, please clearly label the data and include annotations for the x and y axes. \n",
    "\n",
    "Additionally, add your name to the title. \n",
    "\n",
    "Finally, refer to the observations from the 2D PCA visualization and share your thoughts on the 3D PCA results."
   ]
  },
  {
   "cell_type": "code",
   "execution_count": 25,
   "id": "34d248cf-3a40-41b1-b060-d5f7b5dd17cf",
   "metadata": {},
   "outputs": [
    {
     "name": "stdout",
     "output_type": "stream",
     "text": [
      "3D PCA Explained Variance Ratio:\n",
      "[0.72962445 0.22850762 0.03668922]\n"
     ]
    },
    {
     "data": {
      "application/vnd.plotly.v1+json": {
       "config": {
        "plotlyServerURL": "https://plot.ly"
       },
       "data": [
        {
         "marker": {
          "opacity": 0.7,
          "size": 4
         },
         "mode": "markers",
         "name": "setosa",
         "type": "scatter3d",
         "x": [
          -2.2647028088075865,
          -2.080961151965766,
          -2.364229053890299,
          -2.2993842170427063,
          -2.389842166313843,
          -2.0756309481765105,
          -2.4440288351341506,
          -2.2328471588720133,
          -2.3346404779076195,
          -2.1843281749339405,
          -2.1663101007013204,
          -2.3261308664426967,
          -2.218450898822408,
          -2.633100695765226,
          -2.198740603266688,
          -2.2622145316010194,
          -2.2075876958245906,
          -2.190349509192297,
          -1.8985719958028402,
          -2.343369053074991,
          -1.9143229960825663,
          -2.207012843194797,
          -2.77434470292733,
          -1.8186695286958476,
          -2.227163305706637,
          -1.9518463309003744,
          -2.051151372729414,
          -2.1685771746542146,
          -2.1395634513013295,
          -2.265261493154239,
          -2.1401221356479825,
          -1.8315947706760267,
          -2.6149479358589325,
          -2.4461773916965126,
          -2.1099748753186507,
          -2.207808899078264,
          -2.0451462067541994,
          -2.527331913170484,
          -2.429632575084544,
          -2.1697107116306618,
          -2.2864751433456685,
          -1.85812245637357,
          -2.553638395614354,
          -1.9644476837637392,
          -2.1370590058116212,
          -2.0697442995918283,
          -2.3847331657782607,
          -2.394376314219631,
          -2.2294465479426724,
          -2.2038334355191282
         ],
         "y": [
          0.48002659652099006,
          -0.674133556605352,
          -0.34190802388467545,
          -0.5973945076746751,
          0.6468353829020277,
          1.489177523321167,
          0.04764419763001464,
          0.2231480726895924,
          -1.1153276754616657,
          -0.46901356140237493,
          1.0436906530538606,
          0.13307833523923215,
          -0.7286761653165699,
          -0.9615067291701622,
          1.860057113293932,
          2.6862844851105923,
          1.4836093631555731,
          0.4888383164863284,
          1.4050187944665498,
          1.1278493819084765,
          0.40885570775590696,
          0.9241214267468989,
          0.4583436677529161,
          0.08555852628736667,
          0.13725445536342767,
          -0.6256185877766758,
          0.24216355266166764,
          0.5271495253082681,
          0.31321781013995265,
          -0.3377319037604799,
          -0.5045406901415177,
          0.42369506760378667,
          1.793575856104429,
          2.150727877392925,
          -0.4602018414370366,
          -0.20610739768843603,
          0.6615581114631089,
          0.5922927741908102,
          -0.9041800403761473,
          0.2688789614354716,
          0.44171538769905067,
          -2.337415157553347,
          -0.4791006901223134,
          0.4723266677192613,
          1.1422292620394088,
          -0.7110527253858931,
          1.1204297019845366,
          -0.3862468725891566,
          0.997959764307981,
          0.009216357521276952
         ],
         "z": [
          0.12770602230015235,
          0.23460885398456818,
          -0.0442014848387439,
          -0.09129010632068173,
          -0.015738195676258927,
          -0.026968294439782454,
          -0.3354704011431139,
          0.08869549794772642,
          -0.14507686363699937,
          0.2537655673000069,
          0.26868110221613434,
          -0.09375924438111165,
          0.23091123720660323,
          -0.18079608440317885,
          0.472900997873076,
          -0.030526609265512,
          0.005344094078263287,
          0.04421531647845371,
          0.37434327455765404,
          -0.1326304667813027,
          0.4212925940873565,
          -0.1598652772262532,
          -0.3321790975568663,
          -0.03448859579998136,
          -0.11799353576964593,
          0.30564098232520825,
          -0.08636401082518244,
          0.20681624777030458,
          0.27115024027656437,
          -0.06843577622727819,
          0.0750084417491332,
          0.270467376702982,
          -0.04722841866848649,
          0.08266804506156696,
          0.17027486147830825,
          0.2254415800897572,
          0.48453740982831683,
          -0.019435812454223326,
          -0.19325466188423648,
          0.17588382054738924,
          -0.03489490899169774,
          0.20423422253096618,
          -0.3057664526377332,
          -0.3096013178453281,
          -0.2484335611210472,
          0.06392982556320596,
          -0.05721785808911554,
          -0.13946790456791872,
          0.18149277961647067,
          0.15302949045398626
         ]
        },
        {
         "marker": {
          "opacity": 0.7,
          "size": 4
         },
         "mode": "markers",
         "name": "versicolor",
         "type": "scatter3d",
         "x": [
          1.1017811830529478,
          0.7313374253960875,
          1.240979319515831,
          0.407483058817385,
          1.075474700609078,
          0.38868733653566495,
          0.7465297413291607,
          -0.48732274212563925,
          0.9279016383549452,
          0.01142618873698039,
          -0.1101962800006289,
          0.4406934489830784,
          0.5621083064431789,
          0.7195618886754965,
          -0.03335470317877198,
          0.8754071908577374,
          0.3502516679950828,
          0.15881004754797146,
          1.2250936335624312,
          0.16491789938632737,
          0.7376826487712581,
          0.4762871909409714,
          1.2341780976571486,
          0.6328581997098219,
          0.7026611831361823,
          0.8742736538812902,
          1.2565091165418831,
          1.3584051214406316,
          0.6648003672253947,
          -0.040258610900595196,
          0.13079517549786068,
          0.023452688970550983,
          0.24153827295451102,
          1.0610946088426139,
          0.2239787735123798,
          0.4291391155161608,
          1.0487280512090873,
          1.044531384396279,
          0.06958832111642314,
          0.28347723828757543,
          0.279077776055461,
          0.6245697914985715,
          0.33653037013143583,
          -0.362183384619383,
          0.2885862388231574,
          0.09136065565450557,
          0.2277168655347002,
          0.5763882886534788,
          -0.4476670190286113,
          0.2567305888875848
         ],
         "y": [
          0.8629724182621589,
          0.5946147256694244,
          0.6162976544374983,
          -1.7544039893234102,
          -0.20842104605096548,
          -0.5932836359900754,
          0.7730193120985961,
          -1.852429086857574,
          0.032226077891153934,
          -1.034018275129441,
          -2.654072818536564,
          -0.0632951884380016,
          -1.7647243806169446,
          -0.18622460583150593,
          -0.4390032099816246,
          0.5090639567734085,
          -0.1963117345514444,
          -0.7920957424327213,
          -1.6222438030915016,
          -1.3026092302957726,
          0.3965715619602384,
          -0.41732028121355075,
          -0.9333257287992783,
          -0.41638772088909953,
          -0.06341181972479999,
          0.2507933929006122,
          -0.07725601969586889,
          0.3313116817908979,
          -0.2259278546948438,
          -1.0587185465539084,
          -1.562271834209967,
          -1.572475594216704,
          -0.7772563825848415,
          -0.6338432447349472,
          -0.28777351204320273,
          0.845582240905078,
          0.5220517968629425,
          -1.3829887191907815,
          -0.21950333464771518,
          -1.3293246390695763,
          -1.120028523742404,
          0.024923029254012446,
          -0.9884040176703599,
          -2.0192378732386116,
          -0.8557303199870664,
          -0.18119212582577543,
          -0.384920080987354,
          -0.1548735972165588,
          -1.5437920343977558,
          -0.5988517961556694
         ],
         "z": [
          0.6845861626897367,
          0.09412171552908198,
          0.5540068353861005,
          0.02310176781380247,
          0.398255522506227,
          -0.1241915495181698,
          -0.1489694025280515,
          -0.24926526578924862,
          0.5961693613725388,
          -0.5388993901843676,
          0.046790444058384666,
          -0.205073815327203,
          0.7657713936539627,
          0.06865894542301271,
          -0.1949328933289789,
          0.5035113816560299,
          -0.49087307451472756,
          0.30203717444138306,
          0.4823040240972387,
          0.17283780843287735,
          -0.6165263063228644,
          0.2649522265280398,
          0.3684122720486108,
          0.2918962524431584,
          0.4460270075617474,
          0.47257895443311476,
          0.7271550018678924,
          0.2608265767906136,
          -0.08586388873932609,
          0.31957332999553717,
          0.1499834783394743,
          0.2415522812906845,
          0.15121195705700863,
          -0.10531138658459689,
          -0.6652497197140533,
          -0.45063407144476647,
          0.39578638444579683,
          0.6882959600930622,
          -0.29157927435328446,
          -0.08941002293969434,
          -0.09448760101278975,
          0.020481147175775843,
          0.19938975530424555,
          -0.10582104781283726,
          -0.13088968535255105,
          -0.1289783430614335,
          -0.15621315350638385,
          0.27165036236242074,
          -0.19040093039983563,
          -0.091879161000124
         ]
        },
        {
         "marker": {
          "opacity": 0.7,
          "size": 4
         },
         "mode": "markers",
         "name": "virginica",
         "type": "scatter3d",
         "x": [
          1.8445688677230285,
          1.1578816132057794,
          2.2052667910753776,
          1.4401506638275392,
          1.867812220330537,
          2.7518733356662763,
          0.3670176878607244,
          2.3024394446251963,
          2.006686467676605,
          2.2597773490125,
          1.3641754921860076,
          1.6026786704779301,
          1.883900701703242,
          1.2601150991975074,
          1.4676452010173238,
          1.5900773176145655,
          1.471431461133318,
          2.4263289873157,
          3.310695583933886,
          1.2637666736398276,
          2.037716301469404,
          0.9779807342494214,
          2.897651490734168,
          1.3332321759732084,
          1.7007338974912167,
          1.9543267058530707,
          1.1751036315549324,
          1.0209505506957908,
          1.788349920179665,
          1.8636475533282606,
          2.435953727922703,
          2.3049277218317643,
          1.862703219794955,
          1.1141477406864746,
          1.2024733016783906,
          2.7987704475781072,
          1.576255910194754,
          1.3462921036270616,
          0.9248249165424192,
          1.8520450517676696,
          2.014810429954875,
          1.9017840902621888,
          1.1578816132057794,
          2.040558228052092,
          1.9981470959523757,
          1.87050329295641,
          1.5645804830303276,
          1.5211704996278375,
          1.3727877895140728,
          0.9606560300371276
         ],
         "y": [
          0.870421312324822,
          -0.6988698623306909,
          0.562010477008355,
          -0.04698758810580713,
          0.2950448244570191,
          0.8004092010275413,
          -1.5615028914765063,
          0.4200655796427759,
          -0.7114386535471592,
          1.9210103764598856,
          0.6927564544903865,
          -0.42170044977261756,
          0.41924965060512315,
          -1.162260421406464,
          -0.4422715873770831,
          0.6762448057233195,
          0.25562182447147,
          2.5566612507954916,
          0.017780949320626502,
          -1.7067453803762678,
          0.9104674096183102,
          -0.5717643248129923,
          0.41364105959564723,
          -0.4818112186494295,
          1.0139218673227905,
          1.0077775961534519,
          -0.3163944723097913,
          0.06434602923956144,
          -0.18736121459082933,
          0.5622907258861444,
          0.25928443314427996,
          2.626323468232378,
          -0.17854949462549097,
          -0.29292262333573166,
          -0.811315270839669,
          0.8568033294971049,
          1.0685811073208067,
          0.42243061085250777,
          0.01722310045228374,
          0.676128174436521,
          0.6138856369235743,
          0.6895754942430021,
          -0.6988698623306909,
          0.8675206009552276,
          1.049168747184144,
          0.3869660816657251,
          -0.8966868088965264,
          0.26906914427795126,
          1.011254418526792,
          -0.024331668169399908
         ],
         "z": [
          -1.0054010176069885,
          -0.5301601492490193,
          0.20291416973686807,
          -0.16363010683005846,
          -0.395628374553298,
          0.582309102828604,
          -0.9868932674720251,
          0.6517064392599935,
          0.39399057081656513,
          -0.39755189746977576,
          -0.2846120737568172,
          -0.02318640791006252,
          -0.0263384095440755,
          -0.5802492897873729,
          -1.0038695737342611,
          -0.6384287080805988,
          -0.03743125987796875,
          0.12788145946307092,
          0.7033053039033296,
          0.2675368932503549,
          -0.23479948360032865,
          -0.8281272013877701,
          0.8574218248739519,
          0.005428363830018046,
          -0.2984506125330063,
          0.41998472191861985,
          -0.12993775701688148,
          -0.33771596749955335,
          -0.2706580063187426,
          0.7156341185745367,
          0.72781614567373,
          0.4934738076943295,
          -0.35414871214044136,
          0.18348839165934322,
          0.16472375738765466,
          0.5429064994324276,
          -0.9458538186439921,
          -0.18087547785438007,
          -0.4168261929697048,
          0.012672114808351077,
          -0.42833284211509426,
          -0.13007500544651163,
          -0.5301601492490193,
          -0.3381440004590153,
          -0.6324134358198009,
          -0.2562738523986013,
          0.026371351632304776,
          -0.18017838013283186,
          -0.9333952411629335,
          -0.528248806957902
         ]
        }
       ],
       "layout": {
        "scene": {
         "xaxis": {
          "title": {
           "text": "PC1"
          }
         },
         "yaxis": {
          "title": {
           "text": "PC2"
          }
         },
         "zaxis": {
          "title": {
           "text": "PC3"
          }
         }
        },
        "template": {
         "data": {
          "bar": [
           {
            "error_x": {
             "color": "#2a3f5f"
            },
            "error_y": {
             "color": "#2a3f5f"
            },
            "marker": {
             "line": {
              "color": "#E5ECF6",
              "width": 0.5
             },
             "pattern": {
              "fillmode": "overlay",
              "size": 10,
              "solidity": 0.2
             }
            },
            "type": "bar"
           }
          ],
          "barpolar": [
           {
            "marker": {
             "line": {
              "color": "#E5ECF6",
              "width": 0.5
             },
             "pattern": {
              "fillmode": "overlay",
              "size": 10,
              "solidity": 0.2
             }
            },
            "type": "barpolar"
           }
          ],
          "carpet": [
           {
            "aaxis": {
             "endlinecolor": "#2a3f5f",
             "gridcolor": "white",
             "linecolor": "white",
             "minorgridcolor": "white",
             "startlinecolor": "#2a3f5f"
            },
            "baxis": {
             "endlinecolor": "#2a3f5f",
             "gridcolor": "white",
             "linecolor": "white",
             "minorgridcolor": "white",
             "startlinecolor": "#2a3f5f"
            },
            "type": "carpet"
           }
          ],
          "choropleth": [
           {
            "colorbar": {
             "outlinewidth": 0,
             "ticks": ""
            },
            "type": "choropleth"
           }
          ],
          "contour": [
           {
            "colorbar": {
             "outlinewidth": 0,
             "ticks": ""
            },
            "colorscale": [
             [
              0,
              "#0d0887"
             ],
             [
              0.1111111111111111,
              "#46039f"
             ],
             [
              0.2222222222222222,
              "#7201a8"
             ],
             [
              0.3333333333333333,
              "#9c179e"
             ],
             [
              0.4444444444444444,
              "#bd3786"
             ],
             [
              0.5555555555555556,
              "#d8576b"
             ],
             [
              0.6666666666666666,
              "#ed7953"
             ],
             [
              0.7777777777777778,
              "#fb9f3a"
             ],
             [
              0.8888888888888888,
              "#fdca26"
             ],
             [
              1,
              "#f0f921"
             ]
            ],
            "type": "contour"
           }
          ],
          "contourcarpet": [
           {
            "colorbar": {
             "outlinewidth": 0,
             "ticks": ""
            },
            "type": "contourcarpet"
           }
          ],
          "heatmap": [
           {
            "colorbar": {
             "outlinewidth": 0,
             "ticks": ""
            },
            "colorscale": [
             [
              0,
              "#0d0887"
             ],
             [
              0.1111111111111111,
              "#46039f"
             ],
             [
              0.2222222222222222,
              "#7201a8"
             ],
             [
              0.3333333333333333,
              "#9c179e"
             ],
             [
              0.4444444444444444,
              "#bd3786"
             ],
             [
              0.5555555555555556,
              "#d8576b"
             ],
             [
              0.6666666666666666,
              "#ed7953"
             ],
             [
              0.7777777777777778,
              "#fb9f3a"
             ],
             [
              0.8888888888888888,
              "#fdca26"
             ],
             [
              1,
              "#f0f921"
             ]
            ],
            "type": "heatmap"
           }
          ],
          "heatmapgl": [
           {
            "colorbar": {
             "outlinewidth": 0,
             "ticks": ""
            },
            "colorscale": [
             [
              0,
              "#0d0887"
             ],
             [
              0.1111111111111111,
              "#46039f"
             ],
             [
              0.2222222222222222,
              "#7201a8"
             ],
             [
              0.3333333333333333,
              "#9c179e"
             ],
             [
              0.4444444444444444,
              "#bd3786"
             ],
             [
              0.5555555555555556,
              "#d8576b"
             ],
             [
              0.6666666666666666,
              "#ed7953"
             ],
             [
              0.7777777777777778,
              "#fb9f3a"
             ],
             [
              0.8888888888888888,
              "#fdca26"
             ],
             [
              1,
              "#f0f921"
             ]
            ],
            "type": "heatmapgl"
           }
          ],
          "histogram": [
           {
            "marker": {
             "pattern": {
              "fillmode": "overlay",
              "size": 10,
              "solidity": 0.2
             }
            },
            "type": "histogram"
           }
          ],
          "histogram2d": [
           {
            "colorbar": {
             "outlinewidth": 0,
             "ticks": ""
            },
            "colorscale": [
             [
              0,
              "#0d0887"
             ],
             [
              0.1111111111111111,
              "#46039f"
             ],
             [
              0.2222222222222222,
              "#7201a8"
             ],
             [
              0.3333333333333333,
              "#9c179e"
             ],
             [
              0.4444444444444444,
              "#bd3786"
             ],
             [
              0.5555555555555556,
              "#d8576b"
             ],
             [
              0.6666666666666666,
              "#ed7953"
             ],
             [
              0.7777777777777778,
              "#fb9f3a"
             ],
             [
              0.8888888888888888,
              "#fdca26"
             ],
             [
              1,
              "#f0f921"
             ]
            ],
            "type": "histogram2d"
           }
          ],
          "histogram2dcontour": [
           {
            "colorbar": {
             "outlinewidth": 0,
             "ticks": ""
            },
            "colorscale": [
             [
              0,
              "#0d0887"
             ],
             [
              0.1111111111111111,
              "#46039f"
             ],
             [
              0.2222222222222222,
              "#7201a8"
             ],
             [
              0.3333333333333333,
              "#9c179e"
             ],
             [
              0.4444444444444444,
              "#bd3786"
             ],
             [
              0.5555555555555556,
              "#d8576b"
             ],
             [
              0.6666666666666666,
              "#ed7953"
             ],
             [
              0.7777777777777778,
              "#fb9f3a"
             ],
             [
              0.8888888888888888,
              "#fdca26"
             ],
             [
              1,
              "#f0f921"
             ]
            ],
            "type": "histogram2dcontour"
           }
          ],
          "mesh3d": [
           {
            "colorbar": {
             "outlinewidth": 0,
             "ticks": ""
            },
            "type": "mesh3d"
           }
          ],
          "parcoords": [
           {
            "line": {
             "colorbar": {
              "outlinewidth": 0,
              "ticks": ""
             }
            },
            "type": "parcoords"
           }
          ],
          "pie": [
           {
            "automargin": true,
            "type": "pie"
           }
          ],
          "scatter": [
           {
            "fillpattern": {
             "fillmode": "overlay",
             "size": 10,
             "solidity": 0.2
            },
            "type": "scatter"
           }
          ],
          "scatter3d": [
           {
            "line": {
             "colorbar": {
              "outlinewidth": 0,
              "ticks": ""
             }
            },
            "marker": {
             "colorbar": {
              "outlinewidth": 0,
              "ticks": ""
             }
            },
            "type": "scatter3d"
           }
          ],
          "scattercarpet": [
           {
            "marker": {
             "colorbar": {
              "outlinewidth": 0,
              "ticks": ""
             }
            },
            "type": "scattercarpet"
           }
          ],
          "scattergeo": [
           {
            "marker": {
             "colorbar": {
              "outlinewidth": 0,
              "ticks": ""
             }
            },
            "type": "scattergeo"
           }
          ],
          "scattergl": [
           {
            "marker": {
             "colorbar": {
              "outlinewidth": 0,
              "ticks": ""
             }
            },
            "type": "scattergl"
           }
          ],
          "scattermapbox": [
           {
            "marker": {
             "colorbar": {
              "outlinewidth": 0,
              "ticks": ""
             }
            },
            "type": "scattermapbox"
           }
          ],
          "scatterpolar": [
           {
            "marker": {
             "colorbar": {
              "outlinewidth": 0,
              "ticks": ""
             }
            },
            "type": "scatterpolar"
           }
          ],
          "scatterpolargl": [
           {
            "marker": {
             "colorbar": {
              "outlinewidth": 0,
              "ticks": ""
             }
            },
            "type": "scatterpolargl"
           }
          ],
          "scatterternary": [
           {
            "marker": {
             "colorbar": {
              "outlinewidth": 0,
              "ticks": ""
             }
            },
            "type": "scatterternary"
           }
          ],
          "surface": [
           {
            "colorbar": {
             "outlinewidth": 0,
             "ticks": ""
            },
            "colorscale": [
             [
              0,
              "#0d0887"
             ],
             [
              0.1111111111111111,
              "#46039f"
             ],
             [
              0.2222222222222222,
              "#7201a8"
             ],
             [
              0.3333333333333333,
              "#9c179e"
             ],
             [
              0.4444444444444444,
              "#bd3786"
             ],
             [
              0.5555555555555556,
              "#d8576b"
             ],
             [
              0.6666666666666666,
              "#ed7953"
             ],
             [
              0.7777777777777778,
              "#fb9f3a"
             ],
             [
              0.8888888888888888,
              "#fdca26"
             ],
             [
              1,
              "#f0f921"
             ]
            ],
            "type": "surface"
           }
          ],
          "table": [
           {
            "cells": {
             "fill": {
              "color": "#EBF0F8"
             },
             "line": {
              "color": "white"
             }
            },
            "header": {
             "fill": {
              "color": "#C8D4E3"
             },
             "line": {
              "color": "white"
             }
            },
            "type": "table"
           }
          ]
         },
         "layout": {
          "annotationdefaults": {
           "arrowcolor": "#2a3f5f",
           "arrowhead": 0,
           "arrowwidth": 1
          },
          "autotypenumbers": "strict",
          "coloraxis": {
           "colorbar": {
            "outlinewidth": 0,
            "ticks": ""
           }
          },
          "colorscale": {
           "diverging": [
            [
             0,
             "#8e0152"
            ],
            [
             0.1,
             "#c51b7d"
            ],
            [
             0.2,
             "#de77ae"
            ],
            [
             0.3,
             "#f1b6da"
            ],
            [
             0.4,
             "#fde0ef"
            ],
            [
             0.5,
             "#f7f7f7"
            ],
            [
             0.6,
             "#e6f5d0"
            ],
            [
             0.7,
             "#b8e186"
            ],
            [
             0.8,
             "#7fbc41"
            ],
            [
             0.9,
             "#4d9221"
            ],
            [
             1,
             "#276419"
            ]
           ],
           "sequential": [
            [
             0,
             "#0d0887"
            ],
            [
             0.1111111111111111,
             "#46039f"
            ],
            [
             0.2222222222222222,
             "#7201a8"
            ],
            [
             0.3333333333333333,
             "#9c179e"
            ],
            [
             0.4444444444444444,
             "#bd3786"
            ],
            [
             0.5555555555555556,
             "#d8576b"
            ],
            [
             0.6666666666666666,
             "#ed7953"
            ],
            [
             0.7777777777777778,
             "#fb9f3a"
            ],
            [
             0.8888888888888888,
             "#fdca26"
            ],
            [
             1,
             "#f0f921"
            ]
           ],
           "sequentialminus": [
            [
             0,
             "#0d0887"
            ],
            [
             0.1111111111111111,
             "#46039f"
            ],
            [
             0.2222222222222222,
             "#7201a8"
            ],
            [
             0.3333333333333333,
             "#9c179e"
            ],
            [
             0.4444444444444444,
             "#bd3786"
            ],
            [
             0.5555555555555556,
             "#d8576b"
            ],
            [
             0.6666666666666666,
             "#ed7953"
            ],
            [
             0.7777777777777778,
             "#fb9f3a"
            ],
            [
             0.8888888888888888,
             "#fdca26"
            ],
            [
             1,
             "#f0f921"
            ]
           ]
          },
          "colorway": [
           "#636efa",
           "#EF553B",
           "#00cc96",
           "#ab63fa",
           "#FFA15A",
           "#19d3f3",
           "#FF6692",
           "#B6E880",
           "#FF97FF",
           "#FECB52"
          ],
          "font": {
           "color": "#2a3f5f"
          },
          "geo": {
           "bgcolor": "white",
           "lakecolor": "white",
           "landcolor": "#E5ECF6",
           "showlakes": true,
           "showland": true,
           "subunitcolor": "white"
          },
          "hoverlabel": {
           "align": "left"
          },
          "hovermode": "closest",
          "mapbox": {
           "style": "light"
          },
          "paper_bgcolor": "white",
          "plot_bgcolor": "#E5ECF6",
          "polar": {
           "angularaxis": {
            "gridcolor": "white",
            "linecolor": "white",
            "ticks": ""
           },
           "bgcolor": "#E5ECF6",
           "radialaxis": {
            "gridcolor": "white",
            "linecolor": "white",
            "ticks": ""
           }
          },
          "scene": {
           "xaxis": {
            "backgroundcolor": "#E5ECF6",
            "gridcolor": "white",
            "gridwidth": 2,
            "linecolor": "white",
            "showbackground": true,
            "ticks": "",
            "zerolinecolor": "white"
           },
           "yaxis": {
            "backgroundcolor": "#E5ECF6",
            "gridcolor": "white",
            "gridwidth": 2,
            "linecolor": "white",
            "showbackground": true,
            "ticks": "",
            "zerolinecolor": "white"
           },
           "zaxis": {
            "backgroundcolor": "#E5ECF6",
            "gridcolor": "white",
            "gridwidth": 2,
            "linecolor": "white",
            "showbackground": true,
            "ticks": "",
            "zerolinecolor": "white"
           }
          },
          "shapedefaults": {
           "line": {
            "color": "#2a3f5f"
           }
          },
          "ternary": {
           "aaxis": {
            "gridcolor": "white",
            "linecolor": "white",
            "ticks": ""
           },
           "baxis": {
            "gridcolor": "white",
            "linecolor": "white",
            "ticks": ""
           },
           "bgcolor": "#E5ECF6",
           "caxis": {
            "gridcolor": "white",
            "linecolor": "white",
            "ticks": ""
           }
          },
          "title": {
           "x": 0.05
          },
          "xaxis": {
           "automargin": true,
           "gridcolor": "white",
           "linecolor": "white",
           "ticks": "",
           "title": {
            "standoff": 15
           },
           "zerolinecolor": "white",
           "zerolinewidth": 2
          },
          "yaxis": {
           "automargin": true,
           "gridcolor": "white",
           "linecolor": "white",
           "ticks": "",
           "title": {
            "standoff": 15
           },
           "zerolinecolor": "white",
           "zerolinewidth": 2
          }
         }
        },
        "title": {
         "text": "yarixaPerez + 3D PCA of Iris Dataset"
        }
       }
      },
      "image/png": "[encoded data removed]",
      "text/html": [
       "<div>                            <div id=\"b233a846-3150-434d-a558-e250f81aed6a\" class=\"plotly-graph-div\" style=\"height:525px; width:100%;\"></div>            <script type=\"text/javascript\">                require([\"plotly\"], function(Plotly) {                    window.PLOTLYENV=window.PLOTLYENV || {};                                    if (document.getElementById(\"b233a846-3150-434d-a558-e250f81aed6a\")) {                    Plotly.newPlot(                        \"b233a846-3150-434d-a558-e250f81aed6a\",                        [{\"marker\":{\"opacity\":0.7,\"size\":4},\"mode\":\"markers\",\"name\":\"setosa\",\"x\":[-2.2647028088075865,-2.080961151965766,-2.364229053890299,-2.2993842170427063,-2.389842166313843,-2.0756309481765105,-2.4440288351341506,-2.2328471588720133,-2.3346404779076195,-2.1843281749339405,-2.1663101007013204,-2.3261308664426967,-2.218450898822408,-2.633100695765226,-2.198740603266688,-2.2622145316010194,-2.2075876958245906,-2.190349509192297,-1.8985719958028402,-2.343369053074991,-1.9143229960825663,-2.207012843194797,-2.77434470292733,-1.8186695286958476,-2.227163305706637,-1.9518463309003744,-2.051151372729414,-2.1685771746542146,-2.1395634513013295,-2.265261493154239,-2.1401221356479825,-1.8315947706760267,-2.6149479358589325,-2.4461773916965126,-2.1099748753186507,-2.207808899078264,-2.0451462067541994,-2.527331913170484,-2.429632575084544,-2.1697107116306618,-2.2864751433456685,-1.85812245637357,-2.553638395614354,-1.9644476837637392,-2.1370590058116212,-2.0697442995918283,-2.3847331657782607,-2.394376314219631,-2.2294465479426724,-2.2038334355191282],\"y\":[0.48002659652099006,-0.674133556605352,-0.34190802388467545,-0.5973945076746751,0.6468353829020277,1.489177523321167,0.04764419763001464,0.2231480726895924,-1.1153276754616657,-0.46901356140237493,1.0436906530538606,0.13307833523923215,-0.7286761653165699,-0.9615067291701622,1.860057113293932,2.6862844851105923,1.4836093631555731,0.4888383164863284,1.4050187944665498,1.1278493819084765,0.40885570775590696,0.9241214267468989,0.4583436677529161,0.08555852628736667,0.13725445536342767,-0.6256185877766758,0.24216355266166764,0.5271495253082681,0.31321781013995265,-0.3377319037604799,-0.5045406901415177,0.42369506760378667,1.793575856104429,2.150727877392925,-0.4602018414370366,-0.20610739768843603,0.6615581114631089,0.5922927741908102,-0.9041800403761473,0.2688789614354716,0.44171538769905067,-2.337415157553347,-0.4791006901223134,0.4723266677192613,1.1422292620394088,-0.7110527253858931,1.1204297019845366,-0.3862468725891566,0.997959764307981,0.009216357521276952],\"z\":[0.12770602230015235,0.23460885398456818,-0.0442014848387439,-0.09129010632068173,-0.015738195676258927,-0.026968294439782454,-0.3354704011431139,0.08869549794772642,-0.14507686363699937,0.2537655673000069,0.26868110221613434,-0.09375924438111165,0.23091123720660323,-0.18079608440317885,0.472900997873076,-0.030526609265512,0.005344094078263287,0.04421531647845371,0.37434327455765404,-0.1326304667813027,0.4212925940873565,-0.1598652772262532,-0.3321790975568663,-0.03448859579998136,-0.11799353576964593,0.30564098232520825,-0.08636401082518244,0.20681624777030458,0.27115024027656437,-0.06843577622727819,0.0750084417491332,0.270467376702982,-0.04722841866848649,0.08266804506156696,0.17027486147830825,0.2254415800897572,0.48453740982831683,-0.019435812454223326,-0.19325466188423648,0.17588382054738924,-0.03489490899169774,0.20423422253096618,-0.3057664526377332,-0.3096013178453281,-0.2484335611210472,0.06392982556320596,-0.05721785808911554,-0.13946790456791872,0.18149277961647067,0.15302949045398626],\"type\":\"scatter3d\"},{\"marker\":{\"opacity\":0.7,\"size\":4},\"mode\":\"markers\",\"name\":\"versicolor\",\"x\":[1.1017811830529478,0.7313374253960875,1.240979319515831,0.407483058817385,1.075474700609078,0.38868733653566495,0.7465297413291607,-0.48732274212563925,0.9279016383549452,0.01142618873698039,-0.1101962800006289,0.4406934489830784,0.5621083064431789,0.7195618886754965,-0.03335470317877198,0.8754071908577374,0.3502516679950828,0.15881004754797146,1.2250936335624312,0.16491789938632737,0.7376826487712581,0.4762871909409714,1.2341780976571486,0.6328581997098219,0.7026611831361823,0.8742736538812902,1.2565091165418831,1.3584051214406316,0.6648003672253947,-0.040258610900595196,0.13079517549786068,0.023452688970550983,0.24153827295451102,1.0610946088426139,0.2239787735123798,0.4291391155161608,1.0487280512090873,1.044531384396279,0.06958832111642314,0.28347723828757543,0.279077776055461,0.6245697914985715,0.33653037013143583,-0.362183384619383,0.2885862388231574,0.09136065565450557,0.2277168655347002,0.5763882886534788,-0.4476670190286113,0.2567305888875848],\"y\":[0.8629724182621589,0.5946147256694244,0.6162976544374983,-1.7544039893234102,-0.20842104605096548,-0.5932836359900754,0.7730193120985961,-1.852429086857574,0.032226077891153934,-1.034018275129441,-2.654072818536564,-0.0632951884380016,-1.7647243806169446,-0.18622460583150593,-0.4390032099816246,0.5090639567734085,-0.1963117345514444,-0.7920957424327213,-1.6222438030915016,-1.3026092302957726,0.3965715619602384,-0.41732028121355075,-0.9333257287992783,-0.41638772088909953,-0.06341181972479999,0.2507933929006122,-0.07725601969586889,0.3313116817908979,-0.2259278546948438,-1.0587185465539084,-1.562271834209967,-1.572475594216704,-0.7772563825848415,-0.6338432447349472,-0.28777351204320273,0.845582240905078,0.5220517968629425,-1.3829887191907815,-0.21950333464771518,-1.3293246390695763,-1.120028523742404,0.024923029254012446,-0.9884040176703599,-2.0192378732386116,-0.8557303199870664,-0.18119212582577543,-0.384920080987354,-0.1548735972165588,-1.5437920343977558,-0.5988517961556694],\"z\":[0.6845861626897367,0.09412171552908198,0.5540068353861005,0.02310176781380247,0.398255522506227,-0.1241915495181698,-0.1489694025280515,-0.24926526578924862,0.5961693613725388,-0.5388993901843676,0.046790444058384666,-0.205073815327203,0.7657713936539627,0.06865894542301271,-0.1949328933289789,0.5035113816560299,-0.49087307451472756,0.30203717444138306,0.4823040240972387,0.17283780843287735,-0.6165263063228644,0.2649522265280398,0.3684122720486108,0.2918962524431584,0.4460270075617474,0.47257895443311476,0.7271550018678924,0.2608265767906136,-0.08586388873932609,0.31957332999553717,0.1499834783394743,0.2415522812906845,0.15121195705700863,-0.10531138658459689,-0.6652497197140533,-0.45063407144476647,0.39578638444579683,0.6882959600930622,-0.29157927435328446,-0.08941002293969434,-0.09448760101278975,0.020481147175775843,0.19938975530424555,-0.10582104781283726,-0.13088968535255105,-0.1289783430614335,-0.15621315350638385,0.27165036236242074,-0.19040093039983563,-0.091879161000124],\"type\":\"scatter3d\"},{\"marker\":{\"opacity\":0.7,\"size\":4},\"mode\":\"markers\",\"name\":\"virginica\",\"x\":[1.8445688677230285,1.1578816132057794,2.2052667910753776,1.4401506638275392,1.867812220330537,2.7518733356662763,0.3670176878607244,2.3024394446251963,2.006686467676605,2.2597773490125,1.3641754921860076,1.6026786704779301,1.883900701703242,1.2601150991975074,1.4676452010173238,1.5900773176145655,1.471431461133318,2.4263289873157,3.310695583933886,1.2637666736398276,2.037716301469404,0.9779807342494214,2.897651490734168,1.3332321759732084,1.7007338974912167,1.9543267058530707,1.1751036315549324,1.0209505506957908,1.788349920179665,1.8636475533282606,2.435953727922703,2.3049277218317643,1.862703219794955,1.1141477406864746,1.2024733016783906,2.7987704475781072,1.576255910194754,1.3462921036270616,0.9248249165424192,1.8520450517676696,2.014810429954875,1.9017840902621888,1.1578816132057794,2.040558228052092,1.9981470959523757,1.87050329295641,1.5645804830303276,1.5211704996278375,1.3727877895140728,0.9606560300371276],\"y\":[0.870421312324822,-0.6988698623306909,0.562010477008355,-0.04698758810580713,0.2950448244570191,0.8004092010275413,-1.5615028914765063,0.4200655796427759,-0.7114386535471592,1.9210103764598856,0.6927564544903865,-0.42170044977261756,0.41924965060512315,-1.162260421406464,-0.4422715873770831,0.6762448057233195,0.25562182447147,2.5566612507954916,0.017780949320626502,-1.7067453803762678,0.9104674096183102,-0.5717643248129923,0.41364105959564723,-0.4818112186494295,1.0139218673227905,1.0077775961534519,-0.3163944723097913,0.06434602923956144,-0.18736121459082933,0.5622907258861444,0.25928443314427996,2.626323468232378,-0.17854949462549097,-0.29292262333573166,-0.811315270839669,0.8568033294971049,1.0685811073208067,0.42243061085250777,0.01722310045228374,0.676128174436521,0.6138856369235743,0.6895754942430021,-0.6988698623306909,0.8675206009552276,1.049168747184144,0.3869660816657251,-0.8966868088965264,0.26906914427795126,1.011254418526792,-0.024331668169399908],\"z\":[-1.0054010176069885,-0.5301601492490193,0.20291416973686807,-0.16363010683005846,-0.395628374553298,0.582309102828604,-0.9868932674720251,0.6517064392599935,0.39399057081656513,-0.39755189746977576,-0.2846120737568172,-0.02318640791006252,-0.0263384095440755,-0.5802492897873729,-1.0038695737342611,-0.6384287080805988,-0.03743125987796875,0.12788145946307092,0.7033053039033296,0.2675368932503549,-0.23479948360032865,-0.8281272013877701,0.8574218248739519,0.005428363830018046,-0.2984506125330063,0.41998472191861985,-0.12993775701688148,-0.33771596749955335,-0.2706580063187426,0.7156341185745367,0.72781614567373,0.4934738076943295,-0.35414871214044136,0.18348839165934322,0.16472375738765466,0.5429064994324276,-0.9458538186439921,-0.18087547785438007,-0.4168261929697048,0.012672114808351077,-0.42833284211509426,-0.13007500544651163,-0.5301601492490193,-0.3381440004590153,-0.6324134358198009,-0.2562738523986013,0.026371351632304776,-0.18017838013283186,-0.9333952411629335,-0.528248806957902],\"type\":\"scatter3d\"}],                        {\"template\":{\"data\":{\"histogram2dcontour\":[{\"type\":\"histogram2dcontour\",\"colorbar\":{\"outlinewidth\":0,\"ticks\":\"\"},\"colorscale\":[[0.0,\"#0d0887\"],[0.1111111111111111,\"#46039f\"],[0.2222222222222222,\"#7201a8\"],[0.3333333333333333,\"#9c179e\"],[0.4444444444444444,\"#bd3786\"],[0.5555555555555556,\"#d8576b\"],[0.6666666666666666,\"#ed7953\"],[0.7777777777777778,\"#fb9f3a\"],[0.8888888888888888,\"#fdca26\"],[1.0,\"#f0f921\"]]}],\"choropleth\":[{\"type\":\"choropleth\",\"colorbar\":{\"outlinewidth\":0,\"ticks\":\"\"}}],\"histogram2d\":[{\"type\":\"histogram2d\",\"colorbar\":{\"outlinewidth\":0,\"ticks\":\"\"},\"colorscale\":[[0.0,\"#0d0887\"],[0.1111111111111111,\"#46039f\"],[0.2222222222222222,\"#7201a8\"],[0.3333333333333333,\"#9c179e\"],[0.4444444444444444,\"#bd3786\"],[0.5555555555555556,\"#d8576b\"],[0.6666666666666666,\"#ed7953\"],[0.7777777777777778,\"#fb9f3a\"],[0.8888888888888888,\"#fdca26\"],[1.0,\"#f0f921\"]]}],\"heatmap\":[{\"type\":\"heatmap\",\"colorbar\":{\"outlinewidth\":0,\"ticks\":\"\"},\"colorscale\":[[0.0,\"#0d0887\"],[0.1111111111111111,\"#46039f\"],[0.2222222222222222,\"#7201a8\"],[0.3333333333333333,\"#9c179e\"],[0.4444444444444444,\"#bd3786\"],[0.5555555555555556,\"#d8576b\"],[0.6666666666666666,\"#ed7953\"],[0.7777777777777778,\"#fb9f3a\"],[0.8888888888888888,\"#fdca26\"],[1.0,\"#f0f921\"]]}],\"heatmapgl\":[{\"type\":\"heatmapgl\",\"colorbar\":{\"outlinewidth\":0,\"ticks\":\"\"},\"colorscale\":[[0.0,\"#0d0887\"],[0.1111111111111111,\"#46039f\"],[0.2222222222222222,\"#7201a8\"],[0.3333333333333333,\"#9c179e\"],[0.4444444444444444,\"#bd3786\"],[0.5555555555555556,\"#d8576b\"],[0.6666666666666666,\"#ed7953\"],[0.7777777777777778,\"#fb9f3a\"],[0.8888888888888888,\"#fdca26\"],[1.0,\"#f0f921\"]]}],\"contourcarpet\":[{\"type\":\"contourcarpet\",\"colorbar\":{\"outlinewidth\":0,\"ticks\":\"\"}}],\"contour\":[{\"type\":\"contour\",\"colorbar\":{\"outlinewidth\":0,\"ticks\":\"\"},\"colorscale\":[[0.0,\"#0d0887\"],[0.1111111111111111,\"#46039f\"],[0.2222222222222222,\"#7201a8\"],[0.3333333333333333,\"#9c179e\"],[0.4444444444444444,\"#bd3786\"],[0.5555555555555556,\"#d8576b\"],[0.6666666666666666,\"#ed7953\"],[0.7777777777777778,\"#fb9f3a\"],[0.8888888888888888,\"#fdca26\"],[1.0,\"#f0f921\"]]}],\"surface\":[{\"type\":\"surface\",\"colorbar\":{\"outlinewidth\":0,\"ticks\":\"\"},\"colorscale\":[[0.0,\"#0d0887\"],[0.1111111111111111,\"#46039f\"],[0.2222222222222222,\"#7201a8\"],[0.3333333333333333,\"#9c179e\"],[0.4444444444444444,\"#bd3786\"],[0.5555555555555556,\"#d8576b\"],[0.6666666666666666,\"#ed7953\"],[0.7777777777777778,\"#fb9f3a\"],[0.8888888888888888,\"#fdca26\"],[1.0,\"#f0f921\"]]}],\"mesh3d\":[{\"type\":\"mesh3d\",\"colorbar\":{\"outlinewidth\":0,\"ticks\":\"\"}}],\"scatter\":[{\"fillpattern\":{\"fillmode\":\"overlay\",\"size\":10,\"solidity\":0.2},\"type\":\"scatter\"}],\"parcoords\":[{\"type\":\"parcoords\",\"line\":{\"colorbar\":{\"outlinewidth\":0,\"ticks\":\"\"}}}],\"scatterpolargl\":[{\"type\":\"scatterpolargl\",\"marker\":{\"colorbar\":{\"outlinewidth\":0,\"ticks\":\"\"}}}],\"bar\":[{\"error_x\":{\"color\":\"#2a3f5f\"},\"error_y\":{\"color\":\"#2a3f5f\"},\"marker\":{\"line\":{\"color\":\"#E5ECF6\",\"width\":0.5},\"pattern\":{\"fillmode\":\"overlay\",\"size\":10,\"solidity\":0.2}},\"type\":\"bar\"}],\"scattergeo\":[{\"type\":\"scattergeo\",\"marker\":{\"colorbar\":{\"outlinewidth\":0,\"ticks\":\"\"}}}],\"scatterpolar\":[{\"type\":\"scatterpolar\",\"marker\":{\"colorbar\":{\"outlinewidth\":0,\"ticks\":\"\"}}}],\"histogram\":[{\"marker\":{\"pattern\":{\"fillmode\":\"overlay\",\"size\":10,\"solidity\":0.2}},\"type\":\"histogram\"}],\"scattergl\":[{\"type\":\"scattergl\",\"marker\":{\"colorbar\":{\"outlinewidth\":0,\"ticks\":\"\"}}}],\"scatter3d\":[{\"type\":\"scatter3d\",\"line\":{\"colorbar\":{\"outlinewidth\":0,\"ticks\":\"\"}},\"marker\":{\"colorbar\":{\"outlinewidth\":0,\"ticks\":\"\"}}}],\"scattermapbox\":[{\"type\":\"scattermapbox\",\"marker\":{\"colorbar\":{\"outlinewidth\":0,\"ticks\":\"\"}}}],\"scatterternary\":[{\"type\":\"scatterternary\",\"marker\":{\"colorbar\":{\"outlinewidth\":0,\"ticks\":\"\"}}}],\"scattercarpet\":[{\"type\":\"scattercarpet\",\"marker\":{\"colorbar\":{\"outlinewidth\":0,\"ticks\":\"\"}}}],\"carpet\":[{\"aaxis\":{\"endlinecolor\":\"#2a3f5f\",\"gridcolor\":\"white\",\"linecolor\":\"white\",\"minorgridcolor\":\"white\",\"startlinecolor\":\"#2a3f5f\"},\"baxis\":{\"endlinecolor\":\"#2a3f5f\",\"gridcolor\":\"white\",\"linecolor\":\"white\",\"minorgridcolor\":\"white\",\"startlinecolor\":\"#2a3f5f\"},\"type\":\"carpet\"}],\"table\":[{\"cells\":{\"fill\":{\"color\":\"#EBF0F8\"},\"line\":{\"color\":\"white\"}},\"header\":{\"fill\":{\"color\":\"#C8D4E3\"},\"line\":{\"color\":\"white\"}},\"type\":\"table\"}],\"barpolar\":[{\"marker\":{\"line\":{\"color\":\"#E5ECF6\",\"width\":0.5},\"pattern\":{\"fillmode\":\"overlay\",\"size\":10,\"solidity\":0.2}},\"type\":\"barpolar\"}],\"pie\":[{\"automargin\":true,\"type\":\"pie\"}]},\"layout\":{\"autotypenumbers\":\"strict\",\"colorway\":[\"#636efa\",\"#EF553B\",\"#00cc96\",\"#ab63fa\",\"#FFA15A\",\"#19d3f3\",\"#FF6692\",\"#B6E880\",\"#FF97FF\",\"#FECB52\"],\"font\":{\"color\":\"#2a3f5f\"},\"hovermode\":\"closest\",\"hoverlabel\":{\"align\":\"left\"},\"paper_bgcolor\":\"white\",\"plot_bgcolor\":\"#E5ECF6\",\"polar\":{\"bgcolor\":\"#E5ECF6\",\"angularaxis\":{\"gridcolor\":\"white\",\"linecolor\":\"white\",\"ticks\":\"\"},\"radialaxis\":{\"gridcolor\":\"white\",\"linecolor\":\"white\",\"ticks\":\"\"}},\"ternary\":{\"bgcolor\":\"#E5ECF6\",\"aaxis\":{\"gridcolor\":\"white\",\"linecolor\":\"white\",\"ticks\":\"\"},\"baxis\":{\"gridcolor\":\"white\",\"linecolor\":\"white\",\"ticks\":\"\"},\"caxis\":{\"gridcolor\":\"white\",\"linecolor\":\"white\",\"ticks\":\"\"}},\"coloraxis\":{\"colorbar\":{\"outlinewidth\":0,\"ticks\":\"\"}},\"colorscale\":{\"sequential\":[[0.0,\"#0d0887\"],[0.1111111111111111,\"#46039f\"],[0.2222222222222222,\"#7201a8\"],[0.3333333333333333,\"#9c179e\"],[0.4444444444444444,\"#bd3786\"],[0.5555555555555556,\"#d8576b\"],[0.6666666666666666,\"#ed7953\"],[0.7777777777777778,\"#fb9f3a\"],[0.8888888888888888,\"#fdca26\"],[1.0,\"#f0f921\"]],\"sequentialminus\":[[0.0,\"#0d0887\"],[0.1111111111111111,\"#46039f\"],[0.2222222222222222,\"#7201a8\"],[0.3333333333333333,\"#9c179e\"],[0.4444444444444444,\"#bd3786\"],[0.5555555555555556,\"#d8576b\"],[0.6666666666666666,\"#ed7953\"],[0.7777777777777778,\"#fb9f3a\"],[0.8888888888888888,\"#fdca26\"],[1.0,\"#f0f921\"]],\"diverging\":[[0,\"#8e0152\"],[0.1,\"#c51b7d\"],[0.2,\"#de77ae\"],[0.3,\"#f1b6da\"],[0.4,\"#fde0ef\"],[0.5,\"#f7f7f7\"],[0.6,\"#e6f5d0\"],[0.7,\"#b8e186\"],[0.8,\"#7fbc41\"],[0.9,\"#4d9221\"],[1,\"#276419\"]]},\"xaxis\":{\"gridcolor\":\"white\",\"linecolor\":\"white\",\"ticks\":\"\",\"title\":{\"standoff\":15},\"zerolinecolor\":\"white\",\"automargin\":true,\"zerolinewidth\":2},\"yaxis\":{\"gridcolor\":\"white\",\"linecolor\":\"white\",\"ticks\":\"\",\"title\":{\"standoff\":15},\"zerolinecolor\":\"white\",\"automargin\":true,\"zerolinewidth\":2},\"scene\":{\"xaxis\":{\"backgroundcolor\":\"#E5ECF6\",\"gridcolor\":\"white\",\"linecolor\":\"white\",\"showbackground\":true,\"ticks\":\"\",\"zerolinecolor\":\"white\",\"gridwidth\":2},\"yaxis\":{\"backgroundcolor\":\"#E5ECF6\",\"gridcolor\":\"white\",\"linecolor\":\"white\",\"showbackground\":true,\"ticks\":\"\",\"zerolinecolor\":\"white\",\"gridwidth\":2},\"zaxis\":{\"backgroundcolor\":\"#E5ECF6\",\"gridcolor\":\"white\",\"linecolor\":\"white\",\"showbackground\":true,\"ticks\":\"\",\"zerolinecolor\":\"white\",\"gridwidth\":2}},\"shapedefaults\":{\"line\":{\"color\":\"#2a3f5f\"}},\"annotationdefaults\":{\"arrowcolor\":\"#2a3f5f\",\"arrowhead\":0,\"arrowwidth\":1},\"geo\":{\"bgcolor\":\"white\",\"landcolor\":\"#E5ECF6\",\"subunitcolor\":\"white\",\"showland\":true,\"showlakes\":true,\"lakecolor\":\"white\"},\"title\":{\"x\":0.05},\"mapbox\":{\"style\":\"light\"}}},\"title\":{\"text\":\"yarixaPerez + 3D PCA of Iris Dataset\"},\"scene\":{\"xaxis\":{\"title\":{\"text\":\"PC1\"}},\"yaxis\":{\"title\":{\"text\":\"PC2\"}},\"zaxis\":{\"title\":{\"text\":\"PC3\"}}}},                        {\"responsive\": true}                    ).then(function(){\n",
       "                            \n",
       "var gd = document.getElementById('b233a846-3150-434d-a558-e250f81aed6a');\n",
       "var x = new MutationObserver(function (mutations, observer) {{\n",
       "        var display = window.getComputedStyle(gd).display;\n",
       "        if (!display || display === 'none') {{\n",
       "            console.log([gd, 'removed!']);\n",
       "            Plotly.purge(gd);\n",
       "            observer.disconnect();\n",
       "        }}\n",
       "}});\n",
       "\n",
       "// Listen for the removal of the full notebook cells\n",
       "var notebookContainer = gd.closest('#notebook-container');\n",
       "if (notebookContainer) {{\n",
       "    x.observe(notebookContainer, {childList: true});\n",
       "}}\n",
       "\n",
       "// Listen for the clearing of the current output cell\n",
       "var outputEl = gd.closest('.output');\n",
       "if (outputEl) {{\n",
       "    x.observe(outputEl, {childList: true});\n",
       "}}\n",
       "\n",
       "                        })                };                });            </script>        </div>"
      ]
     },
     "metadata": {},
     "output_type": "display_data"
    }
   ],
   "source": [
    "import plotly.graph_objects as go\n",
    "\n",
    "#3D PCA\n",
    "pca3d   = PCA(n_components=3)\n",
    "columns = ['PC1', 'PC2', 'PC3']\n",
    "\n",
    "# your code\n",
    "# PCA reducing to 3 components\n",
    "X_pca_3d = pca3d.fit_transform(X_scaled)\n",
    "\n",
    "# Build dataframe\n",
    "pca3d_df = pd.DataFrame(data=X_pca_3d, columns=columns)\n",
    "pca3d_df['species'] = df['species']\n",
    "\n",
    "# Print explained variance ratio for 3d PCA\n",
    "print(\"3D PCA Explained Variance Ratio:\")\n",
    "print(pca3d.explained_variance_ratio_)\n",
    "\n",
    "# 3d scatter plot\n",
    "fig = go.Figure()\n",
    "\n",
    "for species in iris.target_names:\n",
    "    subset = pca3d_df[pca3d_df['species'] == species]\n",
    "    fig.add_trace(\n",
    "        go.Scatter3d(\n",
    "            x = subset['PC1'],\n",
    "            y = subset['PC2'],\n",
    "            z = subset['PC3'],\n",
    "            mode = 'markers',\n",
    "            marker = dict(\n",
    "                size = 4,\n",
    "                opacity = 0.7\n",
    "            ),\n",
    "            name = species\n",
    "        )\n",
    "    )\n",
    "\n",
    "# Axis labels and title\n",
    "fig.update_layout(\n",
    "    title = \"yarixaPerez + 3D PCA of Iris Dataset\",\n",
    "    scene = dict(\n",
    "        xaxis_title = 'PC1',\n",
    "        yaxis_title = 'PC2',\n",
    "        zaxis_title = 'PC3'\n",
    "    )\n",
    ")\n",
    "\n",
    "fig.show()"
   ]
  },
  {
   "cell_type": "markdown",
   "id": "5dac5436-695f-4e02-9bad-559fce95f6d4",
   "metadata": {},
   "source": [
    "### 3D PCA Scatter Plot observation\n",
    "\n",
    "Your answer:\n",
    "\n"
   ]
  },
  {
   "cell_type": "markdown",
   "id": "0d99c579-99b6-4203-bc5a-095c9405929a",
   "metadata": {},
   "source": [
    "2D PCA Visualization:\n",
    "The 2D projection reveals that the majority of the discriminative information in the Iris dataset is contained within the first two principal components, making it easier to distinguish between species visually.\n",
    "\n",
    "3D PCA Visualization:\n",
    "The 3D visualization provides a rotatable view of the data, so sub-clusters or outliers can be spotted much easier because it reveals points that might be hidden behind other points. Also, introducing PC3, or the third eigenvector, captures the reamining variance between PC1 and PC2. In other words, it separates the species that overlap in PC1 and PC2, and shows them on the thrid axis (z)."
   ]
  }
 ],
 "metadata": {
  "kernelspec": {
   "display_name": "Python 3 (ipykernel)",
   "language": "python",
   "name": "python3"
  },
  "language_info": {
   "codemirror_mode": {
    "name": "ipython",
    "version": 3
   },
   "file_extension": ".py",
   "mimetype": "text/x-python",
   "name": "python",
   "nbconvert_exporter": "python",
   "pygments_lexer": "ipython3",
   "version": "3.12.3"
  }
 },
 "nbformat": 4,
 "nbformat_minor": 5
}
